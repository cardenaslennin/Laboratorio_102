{
  "nbformat": 4,
  "nbformat_minor": 0,
  "metadata": {
    "colab": {
      "provenance": [],
      "authorship_tag": "ABX9TyNEfHrIcxZityYGB/BzSa30",
      "include_colab_link": true
    },
    "kernelspec": {
      "name": "python3",
      "display_name": "Python 3"
    },
    "language_info": {
      "name": "python"
    }
  },
  "cells": [
    {
      "cell_type": "markdown",
      "metadata": {
        "id": "view-in-github",
        "colab_type": "text"
      },
      "source": [
        "<a href=\"https://colab.research.google.com/github/cardenaslennin/Laboratorio_102/blob/main/Untitled4.ipynb\" target=\"_parent\"><img src=\"https://colab.research.google.com/assets/colab-badge.svg\" alt=\"Open In Colab\"/></a>"
      ]
    },
    {
      "cell_type": "markdown",
      "source": [
        "Codigo en Python que contiene los tipos de datos primitivos y calcula el IMC"
      ],
      "metadata": {
        "id": "Cx0TLhvnYzHC"
      }
    },
    {
      "cell_type": "code",
      "source": [
        "\n",
        "nombre = \"Karla\"\n",
        "edad = 30\n",
        "altura_metros = 1.65\n",
        "peso_kg = 80.5\n",
        "es_fumadora = True\n",
        "\n",
        "imc = peso_kg / (altura_metros ** 2)\n",
        "\n",
        "print(\"Datos Personales:\")\n",
        "print(\"Nombre:\", nombre)\n",
        "print(\"Edad:\", edad)\n",
        "print(\"Altura:\", altura_metros, \"metros\")\n",
        "print(\"Peso:\", peso_kg, \"kilogramos\")\n",
        "print(\"¿Es fumadora?\", es_fumadora)\n",
        "\n",
        "print(\"\\nResultado del IMC:\")\n",
        "print(\"IMC:\", imc)\n",
        "\n",
        "if imc < 18.5:\n",
        "    print(\"Bajo peso. Se recomienda consultar a un profesional de la salud.\")\n",
        "elif 18.5 <= imc < 25:\n",
        "    print(\"Peso normal. ¡Excelente!\")\n",
        "elif 25 <= imc < 30:\n",
        "    print(\"Sobrepeso. Se recomienda adoptar hábitos saludables.\")\n",
        "else:\n",
        "    print(\"Obesidad. Se recomienda consultar a un profesional de la salud y adoptar hábitos saludables.\")\n"
      ],
      "metadata": {
        "colab": {
          "base_uri": "https://localhost:8080/"
        },
        "id": "mgCKRNJUY-cA",
        "outputId": "28888a71-029d-4926-e70f-5ee1ec64eb78"
      },
      "execution_count": 6,
      "outputs": [
        {
          "output_type": "stream",
          "name": "stdout",
          "text": [
            "Datos Personales:\n",
            "Nombre: Karla\n",
            "Edad: 30\n",
            "Altura: 1.65 metros\n",
            "Peso: 80.5 kilogramos\n",
            "¿Es fumadora? True\n",
            "\n",
            "Resultado del IMC:\n",
            "IMC: 29.56841138659321\n",
            "Sobrepeso. Se recomienda adoptar hábitos saludables.\n"
          ]
        }
      ]
    }
  ]
}