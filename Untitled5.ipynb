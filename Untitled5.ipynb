{
  "nbformat": 4,
  "nbformat_minor": 0,
  "metadata": {
    "colab": {
      "provenance": [],
      "authorship_tag": "ABX9TyOjIeMAa4TcTTLYQo4GgTzS",
      "include_colab_link": true
    },
    "kernelspec": {
      "name": "python3",
      "display_name": "Python 3"
    },
    "language_info": {
      "name": "python"
    }
  },
  "cells": [
    {
      "cell_type": "markdown",
      "metadata": {
        "id": "view-in-github",
        "colab_type": "text"
      },
      "source": [
        "<a href=\"https://colab.research.google.com/github/cardenaslennin/Laboratorio_102/blob/main/Untitled5.ipynb\" target=\"_parent\"><img src=\"https://colab.research.google.com/assets/colab-badge.svg\" alt=\"Open In Colab\"/></a>"
      ]
    },
    {
      "cell_type": "code",
      "source": [
        "# Definir valores para x e y\n",
        "x = 5\n",
        "y = 10\n",
        "\n",
        "# Expresiones relacionales\n",
        "relacional_menor = x < y\n",
        "relacional_mayor = x > y\n",
        "relacional_menor_igual = x <= y\n",
        "relacional_mayor_igual = x >= y\n",
        "relacional_igual = x == y\n",
        "relacional_no_igual = x != y\n",
        "\n",
        "# Expresiones lógicas\n",
        "logica_and = relacional_menor and relacional_mayor\n",
        "logica_or = relacional_menor or relacional_mayor\n",
        "logica_not = not relacional_menor\n",
        "\n",
        "# Mostrar encabezado de la tabla\n",
        "print(f\"x = {x}, y = {y}\")\n",
        "print(\"_________________________\")\n",
        "\n",
        "# Mostrar tabla de verdad para expresiones relacionales\n",
        "print(\"Expresiones Relacionales:\")\n",
        "print(f\"x < y   : {relacional_menor}\")\n",
        "print(f\"x > y   : {relacional_mayor}\")\n",
        "print(f\"x <= y  : {relacional_menor_igual}\")\n",
        "print(f\"x >= y  : {relacional_mayor_igual}\")\n",
        "print(f\"x == y  : {relacional_igual}\")\n",
        "print(f\"x != y  : {relacional_no_igual}\")\n",
        "\n",
        "# Mostrar tabla de verdad para expresiones lógicas\n",
        "print(\"\\nExpresiones Lógicas:\")\n",
        "print(f\"x < y and x > y   : {logica_and}\")\n",
        "print(f\"x < y or x > y    : {logica_or}\")\n",
        "print(f\"not x < y          : {logica_not}\")\n"
      ],
      "metadata": {
        "colab": {
          "base_uri": "https://localhost:8080/"
        },
        "id": "Y75_NvLDR_NC",
        "outputId": "46d4afca-68db-4ba2-8214-5ab9de46f3cc"
      },
      "execution_count": 2,
      "outputs": [
        {
          "output_type": "stream",
          "name": "stdout",
          "text": [
            "x = 5, y = 10\n",
            "_________________________\n",
            "Expresiones Relacionales:\n",
            "x < y   : True\n",
            "x > y   : False\n",
            "x <= y  : True\n",
            "x >= y  : False\n",
            "x == y  : False\n",
            "x != y  : True\n",
            "\n",
            "Expresiones Lógicas:\n",
            "x < y and x > y   : False\n",
            "x < y or x > y    : True\n",
            "not x < y          : False\n"
          ]
        }
      ]
    }
  ]
}